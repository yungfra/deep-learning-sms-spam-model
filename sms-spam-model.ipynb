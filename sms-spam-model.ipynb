{
 "cells": [
  {
   "cell_type": "markdown",
   "id": "0ffcf8ce",
   "metadata": {},
   "source": [
    "# SMS Spam Model"
   ]
  },
  {
   "cell_type": "markdown",
   "id": "1541889a",
   "metadata": {},
   "source": [
    "## Loading libraries"
   ]
  },
  {
   "cell_type": "code",
   "execution_count": 63,
   "id": "c9d3bcb1",
   "metadata": {},
   "outputs": [],
   "source": [
    "import pandas as pd\n",
    "import tensorflow as tf\n",
    "import numpy as np"
   ]
  },
  {
   "cell_type": "markdown",
   "id": "c53f5932",
   "metadata": {},
   "source": [
    "## Importing and cleaning data"
   ]
  },
  {
   "cell_type": "code",
   "execution_count": 64,
   "id": "3a3c9248",
   "metadata": {},
   "outputs": [],
   "source": [
    "df = pd.read_csv('data/spam.csv')"
   ]
  },
  {
   "cell_type": "code",
   "execution_count": 65,
   "id": "41b1fa6b",
   "metadata": {},
   "outputs": [],
   "source": [
    "df.drop(['Unnamed: 2', 'Unnamed: 3', 'Unnamed: 4'], axis=1, inplace=True)"
   ]
  },
  {
   "cell_type": "code",
   "execution_count": 66,
   "id": "621ac4cb",
   "metadata": {},
   "outputs": [],
   "source": [
    "df.rename({'v1': 'CLASS', 'v2': 'CONTENT'}, axis=1, inplace=True)"
   ]
  },
  {
   "cell_type": "code",
   "execution_count": 67,
   "id": "fc2765d3",
   "metadata": {},
   "outputs": [],
   "source": [
    "df['CLASS'] = df['CLASS'].replace({'ham': 0, 'spam': 1})"
   ]
  },
  {
   "cell_type": "code",
   "execution_count": 68,
   "id": "4e95dcbb",
   "metadata": {},
   "outputs": [
    {
     "data": {
      "text/html": [
       "<div>\n",
       "<style scoped>\n",
       "    .dataframe tbody tr th:only-of-type {\n",
       "        vertical-align: middle;\n",
       "    }\n",
       "\n",
       "    .dataframe tbody tr th {\n",
       "        vertical-align: top;\n",
       "    }\n",
       "\n",
       "    .dataframe thead th {\n",
       "        text-align: right;\n",
       "    }\n",
       "</style>\n",
       "<table border=\"1\" class=\"dataframe\">\n",
       "  <thead>\n",
       "    <tr style=\"text-align: right;\">\n",
       "      <th></th>\n",
       "      <th>CLASS</th>\n",
       "      <th>CONTENT</th>\n",
       "    </tr>\n",
       "  </thead>\n",
       "  <tbody>\n",
       "    <tr>\n",
       "      <th>0</th>\n",
       "      <td>0</td>\n",
       "      <td>Go until jurong point, crazy.. Available only ...</td>\n",
       "    </tr>\n",
       "    <tr>\n",
       "      <th>1</th>\n",
       "      <td>0</td>\n",
       "      <td>Ok lar... Joking wif u oni...</td>\n",
       "    </tr>\n",
       "    <tr>\n",
       "      <th>2</th>\n",
       "      <td>1</td>\n",
       "      <td>Free entry in 2 a wkly comp to win FA Cup fina...</td>\n",
       "    </tr>\n",
       "    <tr>\n",
       "      <th>3</th>\n",
       "      <td>0</td>\n",
       "      <td>U dun say so early hor... U c already then say...</td>\n",
       "    </tr>\n",
       "    <tr>\n",
       "      <th>4</th>\n",
       "      <td>0</td>\n",
       "      <td>Nah I don't think he goes to usf, he lives aro...</td>\n",
       "    </tr>\n",
       "  </tbody>\n",
       "</table>\n",
       "</div>"
      ],
      "text/plain": [
       "   CLASS                                            CONTENT\n",
       "0      0  Go until jurong point, crazy.. Available only ...\n",
       "1      0                      Ok lar... Joking wif u oni...\n",
       "2      1  Free entry in 2 a wkly comp to win FA Cup fina...\n",
       "3      0  U dun say so early hor... U c already then say...\n",
       "4      0  Nah I don't think he goes to usf, he lives aro..."
      ]
     },
     "execution_count": 68,
     "metadata": {},
     "output_type": "execute_result"
    }
   ],
   "source": [
    "df.head()"
   ]
  },
  {
   "cell_type": "markdown",
   "id": "49872814",
   "metadata": {},
   "source": [
    "## Preprocessing data"
   ]
  },
  {
   "cell_type": "code",
   "execution_count": 69,
   "id": "c42f3a7f",
   "metadata": {},
   "outputs": [],
   "source": [
    "from tensorflow.keras.layers import TextVectorization"
   ]
  },
  {
   "cell_type": "code",
   "execution_count": 70,
   "id": "2492ad8f",
   "metadata": {},
   "outputs": [],
   "source": [
    "X = df['CONTENT']"
   ]
  },
  {
   "cell_type": "code",
   "execution_count": 71,
   "id": "95672f58",
   "metadata": {},
   "outputs": [],
   "source": [
    "y = df['CLASS']"
   ]
  },
  {
   "cell_type": "code",
   "execution_count": 72,
   "id": "36855924",
   "metadata": {},
   "outputs": [],
   "source": [
    "MAX_WORDS = 200000 # number of words in the vocab"
   ]
  },
  {
   "cell_type": "code",
   "execution_count": 73,
   "id": "d10cb039",
   "metadata": {},
   "outputs": [],
   "source": [
    "vectorizer = TextVectorization(max_tokens=MAX_WORDS,\n",
    "                              output_sequence_length=1800,\n",
    "                              output_mode='int') # mapping words as integers"
   ]
  },
  {
   "cell_type": "code",
   "execution_count": 74,
   "id": "7b136dd9",
   "metadata": {},
   "outputs": [],
   "source": [
    "vectorizer.adapt(X.values) # learning all the words in the vocab"
   ]
  },
  {
   "cell_type": "code",
   "execution_count": 75,
   "id": "44ff2cc7",
   "metadata": {},
   "outputs": [
    {
     "data": {
      "text/plain": [
       "['',\n",
       " '[UNK]',\n",
       " 'to',\n",
       " 'i',\n",
       " 'you',\n",
       " 'a',\n",
       " 'the',\n",
       " 'u',\n",
       " 'and',\n",
       " 'is',\n",
       " 'in',\n",
       " 'me',\n",
       " 'my',\n",
       " 'for',\n",
       " 'your',\n",
       " 'of',\n",
       " 'it',\n",
       " 'call',\n",
       " 'have',\n",
       " 'on']"
      ]
     },
     "execution_count": 75,
     "metadata": {},
     "output_type": "execute_result"
    }
   ],
   "source": [
    "vectorizer.get_vocabulary()[:20]"
   ]
  },
  {
   "cell_type": "code",
   "execution_count": 76,
   "id": "e5d31843",
   "metadata": {},
   "outputs": [
    {
     "data": {
      "text/plain": [
       "<tf.Tensor: shape=(5,), dtype=int64, numpy=array([255,  12, 261,   9,   1])>"
      ]
     },
     "execution_count": 76,
     "metadata": {},
     "output_type": "execute_result"
    }
   ],
   "source": [
    "# testing the vectorizer\n",
    "vectorizer('Hello, my name is Francesco')[:5]"
   ]
  },
  {
   "cell_type": "code",
   "execution_count": 77,
   "id": "95edb3a4",
   "metadata": {},
   "outputs": [],
   "source": [
    "vectorized_text = vectorizer(X.values)"
   ]
  },
  {
   "cell_type": "code",
   "execution_count": 78,
   "id": "0e5b8068",
   "metadata": {},
   "outputs": [],
   "source": [
    "# Tensorflow Data Pipeline, MCSHBAP\n",
    "dataset = tf.data.Dataset.from_tensor_slices((vectorized_text, y))\n",
    "dataset = dataset.cache()\n",
    "dataset = dataset.shuffle(160000)\n",
    "dataset = dataset.batch(16)\n",
    "dataset = dataset.prefetch(8)"
   ]
  },
  {
   "cell_type": "code",
   "execution_count": 79,
   "id": "37a7747b",
   "metadata": {},
   "outputs": [],
   "source": [
    "train = dataset.take(int(len(dataset)*.7))\n",
    "val = dataset.skip(int(len(dataset)*.7)).take(int(len(dataset)*.2)) \n",
    "test = dataset.skip(int(len(dataset)*.9)).take(int(len(dataset)*.1))"
   ]
  },
  {
   "cell_type": "markdown",
   "id": "211583b3",
   "metadata": {},
   "source": [
    "## Creating Sequential Model"
   ]
  },
  {
   "cell_type": "code",
   "execution_count": 80,
   "id": "b530086c",
   "metadata": {},
   "outputs": [],
   "source": [
    "from tensorflow.keras.models import Sequential\n",
    "from tensorflow.keras.layers import LSTM, Dropout, Bidirectional, Dense, Embedding"
   ]
  },
  {
   "cell_type": "code",
   "execution_count": 81,
   "id": "b328c9dd",
   "metadata": {},
   "outputs": [],
   "source": [
    "model = Sequential()\n",
    "\n",
    "# Embedding Layer\n",
    "model.add(Embedding(MAX_WORDS+1,32))\n",
    "# Bidirectional LSTM Layer\n",
    "model.add(Bidirectional(LSTM(32, activation='tanh')))\n",
    "# Feature extractor Fully connected Layers\n",
    "model.add(Dense(128, activation='relu'))\n",
    "model.add(Dense(256, activation='relu'))\n",
    "model.add(Dense(128, activation='relu'))\n",
    "# Final Layer\n",
    "model.add(Dense(1, activation='sigmoid'))"
   ]
  },
  {
   "cell_type": "code",
   "execution_count": 82,
   "id": "679050e9",
   "metadata": {},
   "outputs": [],
   "source": [
    "model.compile(loss='BinaryCrossentropy', optimizer='Adam')"
   ]
  },
  {
   "cell_type": "code",
   "execution_count": 83,
   "id": "1eb89dce",
   "metadata": {},
   "outputs": [
    {
     "name": "stdout",
     "output_type": "stream",
     "text": [
      "Model: \"sequential_1\"\n",
      "_________________________________________________________________\n",
      " Layer (type)                Output Shape              Param #   \n",
      "=================================================================\n",
      " embedding_1 (Embedding)     (None, None, 32)          6400032   \n",
      "                                                                 \n",
      " bidirectional_1 (Bidirectio  (None, 64)               16640     \n",
      " nal)                                                            \n",
      "                                                                 \n",
      " dense_4 (Dense)             (None, 128)               8320      \n",
      "                                                                 \n",
      " dense_5 (Dense)             (None, 256)               33024     \n",
      "                                                                 \n",
      " dense_6 (Dense)             (None, 128)               32896     \n",
      "                                                                 \n",
      " dense_7 (Dense)             (None, 1)                 129       \n",
      "                                                                 \n",
      "=================================================================\n",
      "Total params: 6,491,041\n",
      "Trainable params: 6,491,041\n",
      "Non-trainable params: 0\n",
      "_________________________________________________________________\n"
     ]
    }
   ],
   "source": [
    "model.summary()"
   ]
  },
  {
   "cell_type": "code",
   "execution_count": 84,
   "id": "a8c362b6",
   "metadata": {},
   "outputs": [
    {
     "name": "stdout",
     "output_type": "stream",
     "text": [
      "Epoch 1/3\n",
      "244/244 [==============================] - 162s 656ms/step - loss: 0.1684 - val_loss: 0.0517\n",
      "Epoch 2/3\n",
      "244/244 [==============================] - 180s 739ms/step - loss: 0.0381 - val_loss: 0.0343\n",
      "Epoch 3/3\n",
      "244/244 [==============================] - 185s 759ms/step - loss: 0.0167 - val_loss: 0.0053\n"
     ]
    }
   ],
   "source": [
    "# Training!\n",
    "history = model.fit(train, epochs=3, validation_data=val)"
   ]
  },
  {
   "cell_type": "code",
   "execution_count": 85,
   "id": "a5e1e461",
   "metadata": {},
   "outputs": [
    {
     "data": {
      "text/plain": [
       "<Figure size 576x360 with 0 Axes>"
      ]
     },
     "metadata": {},
     "output_type": "display_data"
    },
    {
     "data": {
      "image/png": "[encoded data removed]",
      "text/plain": [
       "<Figure size 432x288 with 1 Axes>"
      ]
     },
     "metadata": {
      "needs_background": "light"
     },
     "output_type": "display_data"
    }
   ],
   "source": [
    "from matplotlib import pyplot as plt\n",
    "plt.figure(figsize=(8,5))\n",
    "pd.DataFrame(history.history).plot()\n",
    "plt.show()"
   ]
  },
  {
   "cell_type": "markdown",
   "id": "0993a49b",
   "metadata": {},
   "source": [
    "## Making predictions"
   ]
  },
  {
   "cell_type": "code",
   "execution_count": 86,
   "id": "48dba809",
   "metadata": {},
   "outputs": [],
   "source": [
    "input_text = vectorizer('Free entry in 2 a wkly comp to win FA Cup final tkts 21st May 2005.') #Free entry in 2 a wkly comp to win FA Cup final tkts 21st May 2005."
   ]
  },
  {
   "cell_type": "code",
   "execution_count": 87,
   "id": "9a382b0c",
   "metadata": {},
   "outputs": [],
   "source": [
    "batch = test.as_numpy_iterator().next()"
   ]
  },
  {
   "cell_type": "code",
   "execution_count": 88,
   "id": "0b9c221d",
   "metadata": {},
   "outputs": [],
   "source": [
    "res = model.predict(np.expand_dims(input_text, 0))"
   ]
  },
  {
   "cell_type": "code",
   "execution_count": 89,
   "id": "dc84df58",
   "metadata": {},
   "outputs": [
    {
     "data": {
      "text/plain": [
       "array([[0.99460745]], dtype=float32)"
      ]
     },
     "execution_count": 89,
     "metadata": {},
     "output_type": "execute_result"
    }
   ],
   "source": [
    "res "
   ]
  },
  {
   "cell_type": "code",
   "execution_count": null,
   "id": "1469d348",
   "metadata": {},
   "outputs": [],
   "source": [
    "# Seems OK! Let's evaluate the model!"
   ]
  },
  {
   "cell_type": "markdown",
   "id": "b024272b",
   "metadata": {},
   "source": [
    "## Evaluating Model"
   ]
  },
  {
   "cell_type": "code",
   "execution_count": 90,
   "id": "7c3ca97e",
   "metadata": {},
   "outputs": [],
   "source": [
    "from tensorflow.keras.metrics import Precision, Recall, CategoricalAccuracy"
   ]
  },
  {
   "cell_type": "code",
   "execution_count": 91,
   "id": "8b16585d",
   "metadata": {},
   "outputs": [],
   "source": [
    "pre = Precision()\n",
    "re = Recall()\n",
    "acc = CategoricalAccuracy()"
   ]
  },
  {
   "cell_type": "code",
   "execution_count": 92,
   "id": "a2daf64d",
   "metadata": {},
   "outputs": [],
   "source": [
    "for batch in test.as_numpy_iterator():\n",
    "    X_true, y_true = batch\n",
    "    # Make a prediction\n",
    "    yhat = model.predict(X_true)\n",
    "    # Flatten the predictions\n",
    "    y_true = y_true.flatten()\n",
    "    yhat = yhat.flatten()\n",
    "    \n",
    "    pre.update_state(y_true, yhat)\n",
    "    re.update_state(y_true, yhat)\n",
    "    acc.update_state(y_true, yhat)"
   ]
  },
  {
   "cell_type": "code",
   "execution_count": 93,
   "id": "c26a1d33",
   "metadata": {},
   "outputs": [
    {
     "name": "stdout",
     "output_type": "stream",
     "text": [
      "Precision: 1.0, Recall 0.9855072498321533, Accuracy: 0.5588235259056091\n"
     ]
    }
   ],
   "source": [
    "# Printing results\n",
    "print('Precision: {}, Recall {}, Accuracy: {}' .format(pre.result().numpy(), re.result().numpy(), acc.result().numpy()))"
   ]
  },
  {
   "cell_type": "markdown",
   "id": "12648033",
   "metadata": {},
   "source": [
    "## Gradio App"
   ]
  },
  {
   "cell_type": "code",
   "execution_count": 94,
   "id": "804998f0",
   "metadata": {},
   "outputs": [],
   "source": [
    "# Example of a Gradio App, you can run it!\n",
    "import gradio as gr"
   ]
  },
  {
   "cell_type": "code",
   "execution_count": 95,
   "id": "d3f4551b",
   "metadata": {},
   "outputs": [],
   "source": [
    "model.save('spam.h5')"
   ]
  },
  {
   "cell_type": "code",
   "execution_count": 96,
   "id": "3dd62662",
   "metadata": {},
   "outputs": [],
   "source": [
    "model = tf.keras.models.load_model('spam.h5')"
   ]
  },
  {
   "cell_type": "code",
   "execution_count": 97,
   "id": "f2273aea",
   "metadata": {},
   "outputs": [],
   "source": [
    "def score_comment(comment):\n",
    "    vectorized_comment = vectorizer([comment])\n",
    "    results = model.predict(vectorized_comment)\n",
    "    \n",
    "    info = ''\n",
    "\n",
    "    if(results[0] < 0.0025):\n",
    "        info = 'Not spam'\n",
    "    else:\n",
    "        info = 'Spam'\n",
    "\n",
    "    return info"
   ]
  },
  {
   "cell_type": "code",
   "execution_count": null,
   "id": "b8116ea4",
   "metadata": {
    "scrolled": true
   },
   "outputs": [],
   "source": [
    "interface = gr.Interface(fn=score_comment,\n",
    "                        inputs = gr.inputs.Textbox(lines=2, placeholder='Comment to score'),\n",
    "                        outputs = 'text')"
   ]
  },
  {
   "cell_type": "code",
   "execution_count": null,
   "id": "3e3dfbdb",
   "metadata": {
    "scrolled": true
   },
   "outputs": [],
   "source": [
    "interface.launch(share=True)"
   ]
  }
 ],
 "metadata": {
  "kernelspec": {
   "display_name": "Python 3",
   "language": "python",
   "name": "python3"
  },
  "language_info": {
   "codemirror_mode": {
    "name": "ipython",
    "version": 3
   },
   "file_extension": ".py",
   "mimetype": "text/x-python",
   "name": "python",
   "nbconvert_exporter": "python",
   "pygments_lexer": "ipython3",
   "version": "3.8.8"
  }
 },
 "nbformat": 4,
 "nbformat_minor": 5
}
